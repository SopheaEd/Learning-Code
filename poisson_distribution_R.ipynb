{
  "nbformat": 4,
  "nbformat_minor": 0,
  "metadata": {
    "colab": {
      "provenance": [],
      "authorship_tag": "ABX9TyPDnfkYP4dkUAfo/k0pe12G",
      "include_colab_link": true
    },
    "kernelspec": {
      "name": "ir",
      "display_name": "R"
    },
    "language_info": {
      "name": "R"
    }
  },
  "cells": [
    {
      "cell_type": "markdown",
      "metadata": {
        "id": "view-in-github",
        "colab_type": "text"
      },
      "source": [
        "<a href=\"https://colab.research.google.com/github/SopheaEd/Learning-Code/blob/main/poisson_distribution_R.ipynb\" target=\"_parent\"><img src=\"https://colab.research.google.com/assets/colab-badge.svg\" alt=\"Open In Colab\"/></a>"
      ]
    },
    {
      "cell_type": "markdown",
      "source": [
        "# Introduction"
      ],
      "metadata": {
        "id": "UCxRW-qfh13k"
      }
    },
    {
      "cell_type": "markdown",
      "source": [
        "**Posson distribution** is a probability distribution that express the number of events occurring in a fixed interval of time or space.\n",
        "- $\\lambda$: is the _mean_ occcurrance per interval, then the _probability_ of having $x$ occurances within a given interval is:\n",
        "$$P(X = k) = \\frac{e^{-\\lambda}\\lambda^{k}}{k!}$$\n",
        "- $P(X=k)$ : represents the prob. of observing $k$ events.\n",
        "- $e$: is the base of the natural logarithm\n",
        "- $\\lambda$ is the average rate of event occurance in a fixed interval.\n",
        "- $k$: the actual number of events observed\n",
        "- $k!$: denotes the factorial of $k$, which is product of all possitive integers up to $k$."
      ],
      "metadata": {
        "id": "UqK5xO1Af_oj"
      }
    },
    {
      "cell_type": "markdown",
      "source": [
        "## When do we use Poisson distribution?"
      ],
      "metadata": {
        "id": "iDlqYlnRh7yy"
      }
    },
    {
      "cell_type": "markdown",
      "source": [
        "1. Events unfold randomly and autonomously, where the likelihood of one event occurring does not influence the likelihood of another.\n",
        "2. The average rate of events within a specific timeframe or space.\n",
        "3. When events adhere to a Poisson distribution, $\\lambda$ serves as the singular parameter necessary for determining the prop. of a particular number of event taking place."
      ],
      "metadata": {
        "id": "ClB_BDStiCxR"
      }
    },
    {
      "cell_type": "code",
      "source": [
        "# Probability of having thirty of fewer inquires\n",
        "prob_30_or_less = ppois(30, lambda = 20)\n",
        "print(prob_30_or_less)\n",
        "\n",
        "# Prob. of having thirty or more inquires\n",
        "prob_30_or_more = 1 - prob_30_or_less\n",
        "print(prob_30_or_more)"
      ],
      "metadata": {
        "colab": {
          "base_uri": "https://localhost:8080/"
        },
        "id": "9gejnc6Bi18R",
        "outputId": "345d57fc-a0f1-4de6-fbe2-928eba8edfb7"
      },
      "execution_count": null,
      "outputs": [
        {
          "output_type": "stream",
          "name": "stdout",
          "text": [
            "[1] 0.9865253\n",
            "[1] 0.01347468\n"
          ]
        }
      ]
    },
    {
      "cell_type": "markdown",
      "source": [
        "- The prob. of having thirty or fewer inquires $P(X \\le 30)$ is approximately 98.65 %.\n",
        "- The prob. of having thirty or more inquires $P(X \\ge 30)$ is approximately 1.35%.\n",
        "- This means that, in a minute, there is a high likelihood 98.65% that the number of customer inquires will be thirty or fewer, and a low likelihood (1.35%) that it will be thirty or more, based on the given average."
      ],
      "metadata": {
        "id": "hbILmEQijo0w"
      }
    },
    {
      "cell_type": "markdown",
      "source": [
        "## Characteristics of Poission distribution\n",
        "1. __Events occur independently__\n",
        "2. __Constant average rate__\n",
        "3. __Discrete nature__ : deals with whole numbers (0, 1, 2, ...)"
      ],
      "metadata": {
        "id": "1We72IaxlLas"
      }
    },
    {
      "cell_type": "markdown",
      "source": [
        "In R, there are several built-in functions:\n",
        "- `dpois()`\n",
        "- `ppois()`\n",
        "- `qpois()`\n",
        "- `rpois()`\n",
        "which correspond to the __probability density function (PMF)__, __cumulative distribution function (CDF)__, __quantile function__, and __random number generation, respectively."
      ],
      "metadata": {
        "id": "rPC5y7T1lwYL"
      }
    },
    {
      "cell_type": "markdown",
      "source": [
        "### $dpois(x, \\lambda)$\n",
        "- calculates the prob. mass function (PMF) of the Poisson distribution\n",
        "- gives the prob. of observing exactly $x$ events in a poision distribution with mean  $\\lambda$."
      ],
      "metadata": {
        "id": "OKmDWUPxm8OP"
      }
    },
    {
      "cell_type": "code",
      "source": [
        "x = 3\n",
        "lambda = 2\n",
        "prob = dpois(x, lambda)\n",
        "print(prob)"
      ],
      "metadata": {
        "colab": {
          "base_uri": "https://localhost:8080/"
        },
        "id": "R1PHHUUTlvHG",
        "outputId": "ae299568-4fb5-471e-948c-a6cade9734a5"
      },
      "execution_count": null,
      "outputs": [
        {
          "output_type": "stream",
          "name": "stdout",
          "text": [
            "[1] 0.180447\n"
          ]
        }
      ]
    },
    {
      "cell_type": "markdown",
      "source": [
        "### $ppois(q, \\lambda)$\n",
        "- calculates the __cumulative distribution function (CDF)__ of Poisson distribution\n",
        "- gives the prob. of observing fewer than or equal to $q$ events."
      ],
      "metadata": {
        "id": "isli_4XZn3rZ"
      }
    },
    {
      "cell_type": "code",
      "source": [
        "q = 2\n",
        "lambda = 3\n",
        "cum_prob = ppois(q, lambda)\n",
        "print(cum_prob)"
      ],
      "metadata": {
        "colab": {
          "base_uri": "https://localhost:8080/"
        },
        "id": "Qd1kE1b7oSKm",
        "outputId": "a231e585-6948-45c2-d6fa-13d912fe71f2"
      },
      "execution_count": null,
      "outputs": [
        {
          "output_type": "stream",
          "name": "stdout",
          "text": [
            "[1] 0.4231901\n"
          ]
        }
      ]
    },
    {
      "cell_type": "markdown",
      "source": [
        "### $qpois(p, \\lambda)$\n",
        "- cals quantile function of the Poisson distribution\n",
        "- returns smallest $q$ such that $ppois(q, \\lambda)$ is greater than or equal to $p$."
      ],
      "metadata": {
        "id": "0RHQNHObogg0"
      }
    },
    {
      "cell_type": "code",
      "source": [
        "p = 0.8\n",
        "lambda = 4\n",
        "quantile_value = qpois(p, lambda)\n",
        "print(quantile_value)"
      ],
      "metadata": {
        "colab": {
          "base_uri": "https://localhost:8080/"
        },
        "id": "IwKhZYuio_Zk",
        "outputId": "b595eaba-b6c0-4a6d-e402-82c358d4d719"
      },
      "execution_count": null,
      "outputs": [
        {
          "output_type": "stream",
          "name": "stdout",
          "text": [
            "[1] 6\n"
          ]
        }
      ]
    },
    {
      "cell_type": "markdown",
      "source": [
        "### $rpois(n, \\lambda)$\n",
        "- generates **random smaples from a Poisson distribution**\n",
        "- produces $n$ random values representing the count of events, where the **mean** is specified by $\\lambda$."
      ],
      "metadata": {
        "id": "9qzSotAepNW_"
      }
    },
    {
      "cell_type": "code",
      "source": [
        "n = 10\n",
        "lambda = 5\n",
        "random_sample = rpois(n, lambda)\n",
        "print(random_sample)"
      ],
      "metadata": {
        "id": "qMUy0ubDpmnd",
        "outputId": "b105ebd9-3d0c-41aa-e06c-8e887e243a97",
        "colab": {
          "base_uri": "https://localhost:8080/"
        }
      },
      "execution_count": null,
      "outputs": [
        {
          "output_type": "stream",
          "name": "stdout",
          "text": [
            " [1] 5 6 6 5 5 8 5 5 2 5\n"
          ]
        }
      ]
    },
    {
      "cell_type": "markdown",
      "source": [
        "### Exmaples\n",
        "- Suppose you want to model the number of user visits to a website over day.\n",
        "- We will assume that website visits follow a Poisson distribution with a non-homogeneous rate.\n",
        "- The rate will vary based on different intervals within the day."
      ],
      "metadata": {
        "id": "-gMqxmM8qRFs"
      }
    },
    {
      "cell_type": "code",
      "source": [
        "# Set the seed for reproducibility\n",
        "set.seed(123)\n",
        "\n",
        "# Generate a Poisson-distributed dataset\n",
        "lambda <- 5  # Average rate of events\n",
        "poisson_data <- rpois(100, lambda)\n",
        "\n",
        "# Create a bar plot to visualize the probability mass function\n",
        "barplot(table(poisson_data)/length(poisson_data),\n",
        "        col = \"skyblue\",\n",
        "        main = \"Poisson Distribution PMF\",\n",
        "        xlab = \"Number of Events\",\n",
        "        ylab = \"Probability\",\n",
        "        ylim = c(0, 0.15))\n",
        "\n",
        "# Add a red line representing the theoretical Poisson PMF\n",
        "points(0:max(poisson_data), dpois(0:max(poisson_data), lambda), type = \"b\", col = \"red\")\n",
        "\n",
        "# Add legend\n",
        "legend(\"topright\", legend = c(\"Empirical PMF\", \"Theoretical PMF\"),\n",
        "       fill = c(\"skyblue\", \"red\"),\n",
        "       cex = 0.8)"
      ],
      "metadata": {
        "id": "8JZ6xRG1sx8T",
        "outputId": "88dff388-bf3b-47fb-8fed-d2d79f7b88b4",
        "colab": {
          "base_uri": "https://localhost:8080/",
          "height": 437
        }
      },
      "execution_count": null,
      "outputs": [
        {
          "output_type": "display_data",
          "data": {
            "text/plain": [
              "Plot with title “Poisson Distribution PMF”"
            ],
            "image/png": "[encoded data removed]"
          },
          "metadata": {
            "image/png": {
              "width": 420,
              "height": 420
            }
          }
        }
      ]
    }
  ]
}