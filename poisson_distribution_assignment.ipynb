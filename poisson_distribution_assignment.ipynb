{
  "nbformat": 4,
  "nbformat_minor": 0,
  "metadata": {
    "colab": {
      "provenance": [],
      "authorship_tag": "ABX9TyOywlbDPgyX+9I/yA+/19yb",
      "include_colab_link": true
    },
    "kernelspec": {
      "name": "ir",
      "display_name": "R"
    },
    "language_info": {
      "name": "R"
    }
  },
  "cells": [
    {
      "cell_type": "markdown",
      "metadata": {
        "id": "view-in-github",
        "colab_type": "text"
      },
      "source": [
        "<a href=\"https://colab.research.google.com/github/SopheaEd/Learning-Code/blob/main/poisson_distribution_assignment.ipynb\" target=\"_parent\"><img src=\"https://colab.research.google.com/assets/colab-badge.svg\" alt=\"Open In Colab\"/></a>"
      ]
    },
    {
      "cell_type": "markdown",
      "source": [
        "# Takehome Exame"
      ],
      "metadata": {
        "id": "NdsLK_hXVlGL"
      }
    },
    {
      "cell_type": "markdown",
      "source": [
        "## Key summary\n",
        "1. __Q1__: The probability that one of the five buildings will collapse is: 0.498%.\n",
        "2. __Q2__: The results showed that the probability of at most four customers dining at the restaurant was approximately 0.68. This means that there is about a 68% chance that four or fewer guests will eat at the restaurant."
      ],
      "metadata": {
        "id": "dwG0RRv_rvSg"
      }
    },
    {
      "cell_type": "markdown",
      "source": [
        "## Question 1"
      ],
      "metadata": {
        "id": "pfVGDCoUa8bN"
      }
    },
    {
      "cell_type": "markdown",
      "source": [
        "> The rate of building collapse is $0.001$. If five new buildings are constructed, what is the probability that one of them will collapse?"
      ],
      "metadata": {
        "id": "vnuhdE9ia_OU"
      }
    },
    {
      "cell_type": "markdown",
      "source": [
        "- Collapse rate: $0.001$\n",
        "- $\\lambda = 5^*0.001 = 0.005$\n",
        "- Using Probability Mass Function (PMF)\n",
        "- $P(X = k) = \\binom{n}{k}p^{k}(1-p)^{n-k}$\n",
        "- $\\binom{n}{k}$ : $n$ choose $k$ - binomial coeffcient that means choose $k$ success from $n$ trails.\n",
        "- $\\binom{n}{k} = \\frac{n!}{(k!^*(n-k)!)}$\n",
        "- $P^k$: the prob. of getting $k$ successes, where $p$ is the prob of failure in a signle trail.\n"
      ],
      "metadata": {
        "id": "0elPC03AcnlH"
      }
    },
    {
      "cell_type": "code",
      "source": [
        "pmf_binom <- function(k, n, p) {\n",
        "  # Calculate the binomial coefficient\n",
        "  binomial_coeff <- choose(n, k)\n",
        "\n",
        "  # Calculate p^k\n",
        "  p_k <- p^k\n",
        "\n",
        "  # Calculate (1-p)^(n-k)\n",
        "  p_n_k <- (1 - p)^(n - k)\n",
        "\n",
        "  # Calculate the PMF value\n",
        "  pmf <- binomial_coeff * p_k * p_n_k\n",
        "\n",
        "  return(pmf)\n",
        "}\n",
        "\n",
        "# Calculate the probability that one building will collapse\n",
        "n <- 5  # Number of buildings\n",
        "k <- 1  # Number of collapses\n",
        "p <- 0.001  # Rate of building collapse\n",
        "\n",
        "probability <- round(pmf_binom(k, n, p)*100, 3)\n",
        "\n",
        "paste0(\"The probability that one of the five buildings will collapse is: \", probability,\"%\", sep = \"\" )"
      ],
      "metadata": {
        "colab": {
          "base_uri": "https://localhost:8080/",
          "height": 34
        },
        "id": "arIkG4EtkUqL",
        "outputId": "2b794ac9-c9ba-4859-9357-5000a45fbb17"
      },
      "execution_count": null,
      "outputs": [
        {
          "output_type": "display_data",
          "data": {
            "text/html": [
              "'The probability that one of the five buildings will collapse is: 0.498%'"
            ],
            "text/markdown": "'The probability that one of the five buildings will collapse is: 0.498%'",
            "text/latex": "'The probability that one of the five buildings will collapse is: 0.498\\%'",
            "text/plain": [
              "[1] \"The probability that one of the five buildings will collapse is: 0.498%\""
            ]
          },
          "metadata": {}
        }
      ]
    },
    {
      "cell_type": "code",
      "source": [
        "X = 1\n",
        "lambda = 0.005\n",
        "pdf_bin = round(dpois(X, lambda)*100, 3)\n",
        "paste0(\"The probability that one of the five buildings will collapse is: \", pdf_bin,\"%\")"
      ],
      "metadata": {
        "colab": {
          "base_uri": "https://localhost:8080/",
          "height": 34
        },
        "id": "DPGhwqBTbhHV",
        "outputId": "2c8c2240-11a5-4e52-da08-5dc4b358cfb7"
      },
      "execution_count": null,
      "outputs": [
        {
          "output_type": "display_data",
          "data": {
            "text/html": [
              "'The probability that one of the five buildings will collapse is: 0.498%'"
            ],
            "text/markdown": "'The probability that one of the five buildings will collapse is: 0.498%'",
            "text/latex": "'The probability that one of the five buildings will collapse is: 0.498\\%'",
            "text/plain": [
              "[1] \"The probability that one of the five buildings will collapse is: 0.498%\""
            ]
          },
          "metadata": {}
        }
      ]
    },
    {
      "cell_type": "markdown",
      "source": [
        "### Interpretation"
      ],
      "metadata": {
        "id": "flBMGAZ8ozo9"
      }
    },
    {
      "cell_type": "markdown",
      "source": [
        "- Thus, the probability that one of the five buildings will collapse is about 0.498%.\n"
      ],
      "metadata": {
        "id": "R3pK4ZVno2MC"
      }
    },
    {
      "cell_type": "markdown",
      "source": [
        "## Question 2"
      ],
      "metadata": {
        "id": "YhlJD8XtaSOA"
      }
    },
    {
      "cell_type": "markdown",
      "source": [
        "> On average, 15 guests come to eat at our restaurant per hour. Is it possible that at most 4 guests will come to eat in the next 15 minutes?"
      ],
      "metadata": {
        "id": "0Kf8-ygfWMej"
      }
    },
    {
      "cell_type": "markdown",
      "source": [
        "- $CDF$\n",
        "$$F(x, \\lambda) = \\frac{e^{-\\lambda}\\lambda^x}{k!}$$\n",
        "- $e$: the base of the logarithm\n",
        "- $x$: a Poisson random value\n",
        "- $\\lambda$: average rate of value."
      ],
      "metadata": {
        "id": "DAUSjoszlSml"
      }
    },
    {
      "cell_type": "code",
      "execution_count": null,
      "metadata": {
        "id": "X7mStbXfVKF8"
      },
      "outputs": [],
      "source": [
        "avg_arrival_per_hrs = 15 # Average guests per hour\n",
        "avg_arrival_per_min = avg_arrival_per_hrs/60 # Average people arrival per minutes\n",
        "avg_arrival_15_mins = avg_arrival_per_min * avg_arrival_per_hrs\n",
        "lambda =  avg_arrival_15_mins\n",
        "k = 4     # at most of 4 guests means less than or euqal to 4 guests"
      ]
    },
    {
      "cell_type": "markdown",
      "source": [
        "### Define function"
      ],
      "metadata": {
        "id": "M_tj5KdmYLP3"
      }
    },
    {
      "cell_type": "code",
      "source": [
        "poisson_cdf <- function(lambda, k) {\n",
        "  # Check if inputs are valid\n",
        "  if (!is.numeric(lambda) || lambda < 0) {\n",
        "    stop(\"Lambda (average rate) must be a non-negative number.\")\n",
        "  }\n",
        "  if (!is.numeric(k) || k < 0 || k != as.integer(k)) { # Check if k is a non-negative integer\n",
        "    stop(\"k (number of events) must be a non-negative integer.\")\n",
        "  }\n",
        "\n",
        "  # Calculate the sum of probabilities from 0 to k\n",
        "  probability <- 0\n",
        "  for (i in 0:k) {\n",
        "    probability <- probability + (exp(-lambda) * lambda^i) / factorial(i)\n",
        "  }\n",
        "  return(probability)\n",
        "}\n",
        "\n",
        "prop_cdf = poisson_cdf(lambda, k)\n",
        "cat(\"The probability at most 4 guests will come to eat in the next 15 minutes is:\", prop_cdf)\n"
      ],
      "metadata": {
        "colab": {
          "base_uri": "https://localhost:8080/"
        },
        "id": "uM7kKX5YYOjB",
        "outputId": "2b635305-8119-4d3e-f2db-a08b9da1d18c"
      },
      "execution_count": null,
      "outputs": [
        {
          "output_type": "stream",
          "name": "stdout",
          "text": [
            "The probability at most 4 guests will come to eat in the next 15 minutes is: 0.9999875"
          ]
        }
      ]
    },
    {
      "cell_type": "markdown",
      "source": [
        "### Buit-in Function"
      ],
      "metadata": {
        "id": "TZgOuKU2X1Rq"
      }
    },
    {
      "cell_type": "code",
      "source": [
        "q = 4\n",
        "lambda = avg_arrival_15_mins\n",
        "cum_prob = ppois(q, lambda)\n",
        "print(cum_prob)"
      ],
      "metadata": {
        "colab": {
          "base_uri": "https://localhost:8080/"
        },
        "id": "nrBoVd_vXrJk",
        "outputId": "95683e87-6744-4d4b-9b27-41ab4b020170"
      },
      "execution_count": null,
      "outputs": [
        {
          "output_type": "stream",
          "name": "stdout",
          "text": [
            "[1] 0.6775476\n"
          ]
        }
      ]
    },
    {
      "cell_type": "markdown",
      "source": [
        "### Interpretation\n"
      ],
      "metadata": {
        "id": "nfpFRx7jYhFg"
      }
    },
    {
      "cell_type": "markdown",
      "source": [
        "- The results showed that the probability of at most four customers dining at the restaurant was approximately 0.68. This means that there is about a 68% chance that four or fewer guests will eat at the restaurant."
      ],
      "metadata": {
        "id": "AIC9va8xaZfC"
      }
    }
  ]
}