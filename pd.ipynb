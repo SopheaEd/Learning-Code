{
  "nbformat": 4,
  "nbformat_minor": 0,
  "metadata": {
    "colab": {
      "provenance": [],
      "name": "pd.ipynb",
      "toc_visible": true,
      "authorship_tag": "ABX9TyOJvkNTSS26ur/8nNNmmKZZ",
      "include_colab_link": true
    },
    "kernelspec": {
      "name": "python3",
      "display_name": "Python 3"
    },
    "language_info": {
      "name": "python"
    }
  },
  "cells": [
    {
      "cell_type": "markdown",
      "metadata": {
        "id": "view-in-github",
        "colab_type": "text"
      },
      "source": [
        "<a href=\"https://colab.research.google.com/github/SopheaEd/Learning-Code/blob/main/pd.ipynb\" target=\"_parent\"><img src=\"https://colab.research.google.com/assets/colab-badge.svg\" alt=\"Open In Colab\"/></a>"
      ]
    },
    {
      "cell_type": "code",
      "execution_count": null,
      "metadata": {
        "id": "U5VEbSlK8Vad"
      },
      "outputs": [],
      "source": [
        "import numpy as np\n",
        "import padas as pd"
      ]
    }
  ]
}