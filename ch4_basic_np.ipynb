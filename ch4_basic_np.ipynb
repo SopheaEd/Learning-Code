{
  "nbformat": 4,
  "nbformat_minor": 0,
  "metadata": {
    "colab": {
      "provenance": [],
      "authorship_tag": "ABX9TyNqruvTgJ4J14VIz6O4FOwU",
      "include_colab_link": true
    },
    "kernelspec": {
      "name": "python3",
      "display_name": "Python 3"
    },
    "language_info": {
      "name": "python"
    }
  },
  "cells": [
    {
      "cell_type": "markdown",
      "metadata": {
        "id": "view-in-github",
        "colab_type": "text"
      },
      "source": [
        "<a href=\"https://colab.research.google.com/github/SopheaEd/Learning-Code/blob/main/ch4_basic_np.ipynb\" target=\"_parent\"><img src=\"https://colab.research.google.com/assets/colab-badge.svg\" alt=\"Open In Colab\"/></a>"
      ]
    },
    {
      "cell_type": "code",
      "execution_count": 107,
      "metadata": {
        "id": "x_bnJ6PEc_Yo"
      },
      "outputs": [],
      "source": [
        "import numpy as np\n",
        "import matplotlib.pyplot as plt\n",
        "\n"
      ]
    },
    {
      "cell_type": "code",
      "source": [
        "my_arr = np.arange(1000000)\n",
        "my_list = list(range(1000000))"
      ],
      "metadata": {
        "id": "aBICFGzQfm9h"
      },
      "execution_count": 3,
      "outputs": []
    },
    {
      "cell_type": "code",
      "source": [
        "%time for _ in range(10):my_arr2 = my_arr*2"
      ],
      "metadata": {
        "colab": {
          "base_uri": "https://localhost:8080/"
        },
        "id": "Om16njLcgB9f",
        "outputId": "7d362a27-1132-4d10-d344-040a1ef6a066"
      },
      "execution_count": 4,
      "outputs": [
        {
          "output_type": "stream",
          "name": "stdout",
          "text": [
            "CPU times: user 10.5 ms, sys: 12.5 ms, total: 23 ms\n",
            "Wall time: 24.7 ms\n"
          ]
        }
      ]
    },
    {
      "cell_type": "code",
      "source": [
        "%time for _ in range(10): my_list2 = [x*2 for x in my_list]"
      ],
      "metadata": {
        "colab": {
          "base_uri": "https://localhost:8080/"
        },
        "id": "BmG-oSz-hsxv",
        "outputId": "9472014b-afbe-4d90-8285-b0a41f87fa13"
      },
      "execution_count": 5,
      "outputs": [
        {
          "output_type": "stream",
          "name": "stdout",
          "text": [
            "CPU times: user 630 ms, sys: 197 ms, total: 827 ms\n",
            "Wall time: 830 ms\n"
          ]
        }
      ]
    },
    {
      "cell_type": "code",
      "source": [],
      "metadata": {
        "id": "Y5xkuGtaiEax"
      },
      "execution_count": null,
      "outputs": []
    },
    {
      "cell_type": "markdown",
      "source": [
        "## Multidimensional array object"
      ],
      "metadata": {
        "id": "BhbQQwXDiAEl"
      }
    },
    {
      "cell_type": "code",
      "source": [
        "# Generate some random\n",
        "df = np.random.randn(2, 3)\n",
        "print(df)"
      ],
      "metadata": {
        "colab": {
          "base_uri": "https://localhost:8080/"
        },
        "id": "KUg4UKfUh4HU",
        "outputId": "55c17e1a-f215-4846-d5a5-ef91ed1db825"
      },
      "execution_count": 6,
      "outputs": [
        {
          "output_type": "stream",
          "name": "stdout",
          "text": [
            "[[-0.9898441  -2.18222867  1.1953989 ]\n",
            " [-1.14522234  1.22845313 -0.02617683]]\n"
          ]
        }
      ]
    },
    {
      "cell_type": "code",
      "source": [
        "# Mathematical operations with data\n",
        "df * 10"
      ],
      "metadata": {
        "colab": {
          "base_uri": "https://localhost:8080/"
        },
        "id": "_msfhprwiPTS",
        "outputId": "988758a5-be8e-4111-99a7-66c20ee1dd30"
      },
      "execution_count": 7,
      "outputs": [
        {
          "output_type": "execute_result",
          "data": {
            "text/plain": [
              "array([[ -9.89844104, -21.82228675,  11.953989  ],\n",
              "       [-11.45222336,  12.28453126,  -0.26176829]])"
            ]
          },
          "metadata": {},
          "execution_count": 7
        }
      ]
    },
    {
      "cell_type": "code",
      "source": [
        "df + df"
      ],
      "metadata": {
        "colab": {
          "base_uri": "https://localhost:8080/"
        },
        "id": "6mfuG6SYiaD-",
        "outputId": "c5880182-992e-4452-e052-c100dc53f87e"
      },
      "execution_count": 8,
      "outputs": [
        {
          "output_type": "execute_result",
          "data": {
            "text/plain": [
              "array([[-1.97968821, -4.36445735,  2.3907978 ],\n",
              "       [-2.29044467,  2.45690625, -0.05235366]])"
            ]
          },
          "metadata": {},
          "execution_count": 8
        }
      ]
    },
    {
      "cell_type": "code",
      "source": [
        "# Shape\n",
        "df.shape"
      ],
      "metadata": {
        "colab": {
          "base_uri": "https://localhost:8080/"
        },
        "id": "DHYJ63zhip6b",
        "outputId": "e6b8d934-e251-41be-98e0-43ecf2330a1d"
      },
      "execution_count": 10,
      "outputs": [
        {
          "output_type": "execute_result",
          "data": {
            "text/plain": [
              "(2, 3)"
            ]
          },
          "metadata": {},
          "execution_count": 10
        }
      ]
    },
    {
      "cell_type": "code",
      "source": [
        "df.dtype"
      ],
      "metadata": {
        "colab": {
          "base_uri": "https://localhost:8080/"
        },
        "id": "MSjD2HB2iwn9",
        "outputId": "c03848d7-2507-4d19-d984-ef00d9f3ca6a"
      },
      "execution_count": 11,
      "outputs": [
        {
          "output_type": "execute_result",
          "data": {
            "text/plain": [
              "dtype('float64')"
            ]
          },
          "metadata": {},
          "execution_count": 11
        }
      ]
    },
    {
      "cell_type": "code",
      "source": [
        "# Create ndarray\n",
        "df1 = [6, 7, 4.5, 8, 0, 1]\n",
        "arr1d = np.array(df1)\n",
        "print(arr1d)"
      ],
      "metadata": {
        "colab": {
          "base_uri": "https://localhost:8080/"
        },
        "id": "f8PCTtWoizda",
        "outputId": "fa18a5df-0af7-4e6e-b03e-e757f9dbf1b9"
      },
      "execution_count": 13,
      "outputs": [
        {
          "output_type": "stream",
          "name": "stdout",
          "text": [
            "[6.  7.  4.5 8.  0.  1. ]\n"
          ]
        }
      ]
    },
    {
      "cell_type": "code",
      "source": [
        "df2 = [[1, 2, 3, 4], [5, 6, 7, 8]]\n",
        "arr2d = np.array(df2)\n",
        "print(arr2d)"
      ],
      "metadata": {
        "colab": {
          "base_uri": "https://localhost:8080/"
        },
        "id": "79g6ATKijFB8",
        "outputId": "273af260-a99b-4a5d-e8bf-1f12e7f432f7"
      },
      "execution_count": 14,
      "outputs": [
        {
          "output_type": "stream",
          "name": "stdout",
          "text": [
            "[[1 2 3 4]\n",
            " [5 6 7 8]]\n"
          ]
        }
      ]
    },
    {
      "cell_type": "code",
      "source": [
        "# check dimensions\n",
        "arr2d.ndim"
      ],
      "metadata": {
        "colab": {
          "base_uri": "https://localhost:8080/"
        },
        "id": "EQBbW3dnjSDE",
        "outputId": "680f53a8-350a-4117-a5b2-48f2f1915ed3"
      },
      "execution_count": 15,
      "outputs": [
        {
          "output_type": "execute_result",
          "data": {
            "text/plain": [
              "2"
            ]
          },
          "metadata": {},
          "execution_count": 15
        }
      ]
    },
    {
      "cell_type": "code",
      "source": [
        "# check shape\n",
        "arr2d.shape"
      ],
      "metadata": {
        "colab": {
          "base_uri": "https://localhost:8080/"
        },
        "id": "mF5XK3P5jcEJ",
        "outputId": "204df3b1-38fb-490d-ce1b-f53db99c3210"
      },
      "execution_count": 16,
      "outputs": [
        {
          "output_type": "execute_result",
          "data": {
            "text/plain": [
              "(2, 4)"
            ]
          },
          "metadata": {},
          "execution_count": 16
        }
      ]
    },
    {
      "cell_type": "code",
      "source": [
        "# Check type\n",
        "arr2d.dtype"
      ],
      "metadata": {
        "colab": {
          "base_uri": "https://localhost:8080/"
        },
        "id": "qPYaKB4HjgS1",
        "outputId": "ba192b86-d8e8-4053-e7eb-8a827a86f46b"
      },
      "execution_count": 17,
      "outputs": [
        {
          "output_type": "execute_result",
          "data": {
            "text/plain": [
              "dtype('int64')"
            ]
          },
          "metadata": {},
          "execution_count": 17
        }
      ]
    },
    {
      "cell_type": "code",
      "source": [
        "# One dim array function\n",
        "arr_0 = np.zeros((3,2))\n",
        "print(arr_0)\n",
        "print(arr_0.ndim)"
      ],
      "metadata": {
        "colab": {
          "base_uri": "https://localhost:8080/"
        },
        "id": "zwxa1IybjqWm",
        "outputId": "c8f8eaf6-42b6-4831-de35-33a46e15bd7b"
      },
      "execution_count": 29,
      "outputs": [
        {
          "output_type": "stream",
          "name": "stdout",
          "text": [
            "[[0. 0.]\n",
            " [0. 0.]\n",
            " [0. 0.]]\n",
            "2\n"
          ]
        }
      ]
    },
    {
      "cell_type": "code",
      "source": [
        "arr1d = np.zeros(10)\n",
        "print(arr1d)\n",
        "print(arr1d.ndim)"
      ],
      "metadata": {
        "colab": {
          "base_uri": "https://localhost:8080/"
        },
        "id": "heJmfFonj4uQ",
        "outputId": "6b2dbdfa-0920-493c-eb71-3cd623ba4d5e"
      },
      "execution_count": 27,
      "outputs": [
        {
          "output_type": "stream",
          "name": "stdout",
          "text": [
            "[0. 0. 0. 0. 0. 0. 0. 0. 0. 0.]\n",
            "1\n"
          ]
        }
      ]
    },
    {
      "cell_type": "code",
      "source": [
        "# Empty func\n",
        "arr3d_em = np.empty((2, 3, 4))\n",
        "print(arr3d_em)\n",
        "print(arr3d_em.ndim)"
      ],
      "metadata": {
        "colab": {
          "base_uri": "https://localhost:8080/"
        },
        "id": "n5W-G1UYkBXW",
        "outputId": "2f15bc1a-78a7-4a01-af5b-51ae20d0f9eb"
      },
      "execution_count": 28,
      "outputs": [
        {
          "output_type": "stream",
          "name": "stdout",
          "text": [
            "[[[-0.25 -0.5   0.   -0.25]\n",
            "  [ 0.25 -0.5   0.5  -0.25]\n",
            "  [ 0.25  0.    0.5   0.25]]\n",
            "\n",
            " [[ 0.25  0.5   0.    0.25]\n",
            "  [-0.25  0.5  -0.5   0.25]\n",
            "  [-0.25  0.   -0.5  -0.25]]]\n",
            "3\n"
          ]
        }
      ]
    },
    {
      "cell_type": "code",
      "source": [
        "# convert or cast from one type to another\n",
        "arr = np.array([1, 2, 3, 4, 5, 6])\n",
        "arr.dtype"
      ],
      "metadata": {
        "colab": {
          "base_uri": "https://localhost:8080/"
        },
        "id": "qNXhNdCBkO70",
        "outputId": "26713a30-6894-4c38-d7df-4b78daed11f1"
      },
      "execution_count": 30,
      "outputs": [
        {
          "output_type": "execute_result",
          "data": {
            "text/plain": [
              "dtype('int64')"
            ]
          },
          "metadata": {},
          "execution_count": 30
        }
      ]
    },
    {
      "cell_type": "code",
      "source": [
        "float_arr = arr.astype(np.float64)\n",
        "float_arr.dtype"
      ],
      "metadata": {
        "colab": {
          "base_uri": "https://localhost:8080/"
        },
        "id": "sob3Jt4Ok64M",
        "outputId": "a4d923dc-933c-49fe-efca-f30fce1285eb"
      },
      "execution_count": 32,
      "outputs": [
        {
          "output_type": "execute_result",
          "data": {
            "text/plain": [
              "dtype('float64')"
            ]
          },
          "metadata": {},
          "execution_count": 32
        }
      ]
    },
    {
      "cell_type": "code",
      "source": [
        "int_arr = arr.astype(np.int32)\n",
        "int_arr.dtype"
      ],
      "metadata": {
        "colab": {
          "base_uri": "https://localhost:8080/"
        },
        "id": "nS2YYpgdlGc2",
        "outputId": "ed7fb862-d56b-46ca-e79e-7d8c189f2a01"
      },
      "execution_count": 33,
      "outputs": [
        {
          "output_type": "execute_result",
          "data": {
            "text/plain": [
              "dtype('int32')"
            ]
          },
          "metadata": {},
          "execution_count": 33
        }
      ]
    },
    {
      "cell_type": "code",
      "source": [
        "# convert string to number\n",
        "num_str = np.array(['1.25', '-9.6', '42'], dtype = np.string_)\n",
        "num_str.dtype"
      ],
      "metadata": {
        "colab": {
          "base_uri": "https://localhost:8080/"
        },
        "id": "9dWAZF1cleE-",
        "outputId": "42a86e3b-6cb6-472a-8436-64953c7e8195"
      },
      "execution_count": 35,
      "outputs": [
        {
          "output_type": "execute_result",
          "data": {
            "text/plain": [
              "dtype('S4')"
            ]
          },
          "metadata": {},
          "execution_count": 35
        }
      ]
    },
    {
      "cell_type": "code",
      "source": [
        "num_str.astype(float)"
      ],
      "metadata": {
        "colab": {
          "base_uri": "https://localhost:8080/"
        },
        "id": "OXA5do0Al0kD",
        "outputId": "067c0459-3af1-4873-91fe-0c7ff691f441"
      },
      "execution_count": 38,
      "outputs": [
        {
          "output_type": "execute_result",
          "data": {
            "text/plain": [
              "array([ 1.25, -9.6 , 42.  ])"
            ]
          },
          "metadata": {},
          "execution_count": 38
        }
      ]
    },
    {
      "cell_type": "code",
      "source": [
        "int_arr = np.arange(10)\n",
        "print(int_arr)"
      ],
      "metadata": {
        "colab": {
          "base_uri": "https://localhost:8080/"
        },
        "id": "KxegUNQyl_pu",
        "outputId": "fb89b347-4d6f-4cc0-9a6d-2cddbe671b5c"
      },
      "execution_count": 39,
      "outputs": [
        {
          "output_type": "stream",
          "name": "stdout",
          "text": [
            "[0 1 2 3 4 5 6 7 8 9]\n"
          ]
        }
      ]
    },
    {
      "cell_type": "code",
      "source": [
        "calibers = np.array([.22, .277, .355], dtype = np.float64)"
      ],
      "metadata": {
        "id": "BPg1ndoCmPq9"
      },
      "execution_count": 40,
      "outputs": []
    },
    {
      "cell_type": "code",
      "source": [
        "calibers.dtype\n",
        "int_arr.astype(calibers.dtype)"
      ],
      "metadata": {
        "colab": {
          "base_uri": "https://localhost:8080/"
        },
        "id": "QLcRNTBDmbQy",
        "outputId": "2ccb5dd0-5231-4634-adab-51ff05e149b8"
      },
      "execution_count": 42,
      "outputs": [
        {
          "output_type": "execute_result",
          "data": {
            "text/plain": [
              "array([0., 1., 2., 3., 4., 5., 6., 7., 8., 9.])"
            ]
          },
          "metadata": {},
          "execution_count": 42
        }
      ]
    },
    {
      "cell_type": "code",
      "source": [
        "# Arithmetic with numpy arr\n",
        "arr = np.array([[1., 2., 3.],[5, 6., 7]])\n",
        "print(arr)"
      ],
      "metadata": {
        "colab": {
          "base_uri": "https://localhost:8080/"
        },
        "id": "wliUMIAfmjzD",
        "outputId": "1c4e3198-74e2-452a-afdb-ea743fceb842"
      },
      "execution_count": 43,
      "outputs": [
        {
          "output_type": "stream",
          "name": "stdout",
          "text": [
            "[[1. 2. 3.]\n",
            " [5. 6. 7.]]\n"
          ]
        }
      ]
    },
    {
      "cell_type": "code",
      "source": [
        "arr * arr"
      ],
      "metadata": {
        "colab": {
          "base_uri": "https://localhost:8080/"
        },
        "id": "JzaOd8mqouQ3",
        "outputId": "19e9bd8c-f2aa-4682-a4a6-0fdb82affd28"
      },
      "execution_count": 44,
      "outputs": [
        {
          "output_type": "execute_result",
          "data": {
            "text/plain": [
              "array([[ 1.,  4.,  9.],\n",
              "       [25., 36., 49.]])"
            ]
          },
          "metadata": {},
          "execution_count": 44
        }
      ]
    },
    {
      "cell_type": "code",
      "source": [
        "arr - arr"
      ],
      "metadata": {
        "colab": {
          "base_uri": "https://localhost:8080/"
        },
        "id": "4YYL3HYNozsy",
        "outputId": "3bfdf43a-ba24-4a0c-f613-7ffa928745b8"
      },
      "execution_count": 45,
      "outputs": [
        {
          "output_type": "execute_result",
          "data": {
            "text/plain": [
              "array([[0., 0., 0.],\n",
              "       [0., 0., 0.]])"
            ]
          },
          "metadata": {},
          "execution_count": 45
        }
      ]
    },
    {
      "cell_type": "code",
      "source": [
        "arr/10"
      ],
      "metadata": {
        "colab": {
          "base_uri": "https://localhost:8080/"
        },
        "id": "5m1muPeWo11-",
        "outputId": "309e4248-6b44-4ca5-e57b-c632609c7216"
      },
      "execution_count": 46,
      "outputs": [
        {
          "output_type": "execute_result",
          "data": {
            "text/plain": [
              "array([[0.1, 0.2, 0.3],\n",
              "       [0.5, 0.6, 0.7]])"
            ]
          },
          "metadata": {},
          "execution_count": 46
        }
      ]
    },
    {
      "cell_type": "code",
      "source": [
        "1/arr"
      ],
      "metadata": {
        "colab": {
          "base_uri": "https://localhost:8080/"
        },
        "id": "2IxXZNlfo4fa",
        "outputId": "bbfcefb1-591e-4937-c1c0-4498f6d30add"
      },
      "execution_count": 47,
      "outputs": [
        {
          "output_type": "execute_result",
          "data": {
            "text/plain": [
              "array([[1.        , 0.5       , 0.33333333],\n",
              "       [0.2       , 0.16666667, 0.14285714]])"
            ]
          },
          "metadata": {},
          "execution_count": 47
        }
      ]
    },
    {
      "cell_type": "code",
      "source": [
        "arr ** 0.5"
      ],
      "metadata": {
        "colab": {
          "base_uri": "https://localhost:8080/"
        },
        "id": "dzrSJRwyo7O1",
        "outputId": "54c1e3c7-b6fc-4bbb-e410-82b028b0cd43"
      },
      "execution_count": 48,
      "outputs": [
        {
          "output_type": "execute_result",
          "data": {
            "text/plain": [
              "array([[1.        , 1.41421356, 1.73205081],\n",
              "       [2.23606798, 2.44948974, 2.64575131]])"
            ]
          },
          "metadata": {},
          "execution_count": 48
        }
      ]
    },
    {
      "cell_type": "code",
      "source": [
        "arr2 = np.array([[0, 4., 1.], [7., 2., 12]])\n",
        "arr2 > arr"
      ],
      "metadata": {
        "colab": {
          "base_uri": "https://localhost:8080/"
        },
        "id": "RAT4MmL7o_bd",
        "outputId": "2462a485-11be-431c-ef04-54ac441a8b9e"
      },
      "execution_count": 49,
      "outputs": [
        {
          "output_type": "execute_result",
          "data": {
            "text/plain": [
              "array([[False,  True, False],\n",
              "       [ True, False,  True]])"
            ]
          },
          "metadata": {},
          "execution_count": 49
        }
      ]
    },
    {
      "cell_type": "code",
      "source": [
        "# indexing & slicing\n",
        "arr = np.arange(10)\n",
        "arr[0]\n",
        "arr[6]\n",
        "arr[5:8]\n",
        "arr[0] = 99\n",
        "print(arr)"
      ],
      "metadata": {
        "colab": {
          "base_uri": "https://localhost:8080/"
        },
        "id": "St0SCCsSpMHD",
        "outputId": "7a3b0642-9c36-4b87-c3c8-b8b02d404879"
      },
      "execution_count": 53,
      "outputs": [
        {
          "output_type": "stream",
          "name": "stdout",
          "text": [
            "[99  1  2  3  4  5  6  7  8  9]\n"
          ]
        }
      ]
    },
    {
      "cell_type": "code",
      "source": [
        "arr[:] = 99\n",
        "print(arr)"
      ],
      "metadata": {
        "colab": {
          "base_uri": "https://localhost:8080/"
        },
        "id": "gwReSigzpm7c",
        "outputId": "e21e12b7-f828-460f-fe29-5a5062104e0c"
      },
      "execution_count": 55,
      "outputs": [
        {
          "output_type": "stream",
          "name": "stdout",
          "text": [
            "[99 99 99 99 99 99 99 99 99 99]\n"
          ]
        }
      ]
    },
    {
      "cell_type": "code",
      "source": [
        "arr2d = np.array([[1,2,3],[4,5,6],[7,8,9]])\n",
        "arr2d[2]\n",
        "arr2d[0]\n",
        "arr2d[0][0]"
      ],
      "metadata": {
        "colab": {
          "base_uri": "https://localhost:8080/"
        },
        "id": "CnaRks7XpyPQ",
        "outputId": "28d8f9b6-2532-4d6e-93f5-994e3979e243"
      },
      "execution_count": 58,
      "outputs": [
        {
          "output_type": "execute_result",
          "data": {
            "text/plain": [
              "1"
            ]
          },
          "metadata": {},
          "execution_count": 58
        }
      ]
    },
    {
      "cell_type": "code",
      "source": [
        "arr2d[:2, 1:]"
      ],
      "metadata": {
        "colab": {
          "base_uri": "https://localhost:8080/"
        },
        "id": "x4wD4wUSqDLa",
        "outputId": "ed4a62c0-23a1-432b-c34f-84f4a45acf8c"
      },
      "execution_count": 59,
      "outputs": [
        {
          "output_type": "execute_result",
          "data": {
            "text/plain": [
              "array([[2, 3],\n",
              "       [5, 6]])"
            ]
          },
          "metadata": {},
          "execution_count": 59
        }
      ]
    },
    {
      "cell_type": "code",
      "source": [
        "arr2d[:2, 1:]\n",
        "arr2d[2]\n",
        "arr2d[2, :]\n",
        "arr2d[2:, :]\n",
        "arr2d[:, :2]\n",
        "arr2d[1, :2]\n",
        "arr2d[1:2, :2]"
      ],
      "metadata": {
        "colab": {
          "base_uri": "https://localhost:8080/"
        },
        "id": "OzALrwTIqUeB",
        "outputId": "8edcffb4-8ca7-462d-9735-1a70782cc1a0"
      },
      "execution_count": 62,
      "outputs": [
        {
          "output_type": "execute_result",
          "data": {
            "text/plain": [
              "array([[4, 5]])"
            ]
          },
          "metadata": {},
          "execution_count": 62
        }
      ]
    },
    {
      "cell_type": "code",
      "source": [
        "# Boolean indexing\n",
        "names = np.array(['Bob', 'Joe', 'Will', 'Bob', 'Will', 'Joe', 'Joe'])\n",
        "df = np.random.randn(7, 4)\n",
        "print(names)\n",
        "print(df)"
      ],
      "metadata": {
        "colab": {
          "base_uri": "https://localhost:8080/"
        },
        "id": "eAJNSZmWq-ZQ",
        "outputId": "41ae9c5b-e2a4-4206-8b1e-c997002b394d"
      },
      "execution_count": 64,
      "outputs": [
        {
          "output_type": "stream",
          "name": "stdout",
          "text": [
            "['Bob' 'Joe' 'Will' 'Bob' 'Will' 'Joe' 'Joe']\n",
            "[[-0.59177254  1.86968255 -0.14754315 -0.28013591]\n",
            " [-0.40025979  1.02068174  1.27360654 -1.7377756 ]\n",
            " [ 0.37810055 -1.47702512  0.35168236  0.25463832]\n",
            " [-1.89348944 -0.24601319 -0.25619271 -1.41008918]\n",
            " [ 0.98405479  1.00288564  0.02405835 -1.50344085]\n",
            " [-1.00828099  0.86562214  0.02591225  0.09974251]\n",
            " [ 0.42869218  0.59697715 -0.17261333  1.62545643]]\n"
          ]
        }
      ]
    },
    {
      "cell_type": "code",
      "source": [
        "# Vectorize to find the name\n",
        "names == 'Bob'"
      ],
      "metadata": {
        "colab": {
          "base_uri": "https://localhost:8080/"
        },
        "id": "-t-VYuxLrc9P",
        "outputId": "bcad6f50-18ba-4e5c-bb22-7ef209b10acc"
      },
      "execution_count": 65,
      "outputs": [
        {
          "output_type": "execute_result",
          "data": {
            "text/plain": [
              "array([ True, False, False,  True, False, False, False])"
            ]
          },
          "metadata": {},
          "execution_count": 65
        }
      ]
    },
    {
      "cell_type": "code",
      "source": [
        "df[names=='Bob']"
      ],
      "metadata": {
        "colab": {
          "base_uri": "https://localhost:8080/"
        },
        "id": "8UkHGvOWrrrK",
        "outputId": "e353af6e-9ba3-4cd3-d34a-f18767fa0cd4"
      },
      "execution_count": 66,
      "outputs": [
        {
          "output_type": "execute_result",
          "data": {
            "text/plain": [
              "array([[-0.59177254,  1.86968255, -0.14754315, -0.28013591],\n",
              "       [-1.89348944, -0.24601319, -0.25619271, -1.41008918]])"
            ]
          },
          "metadata": {},
          "execution_count": 66
        }
      ]
    },
    {
      "cell_type": "code",
      "source": [
        "names != 'Bob'\n",
        "df[~(names == 'Bob')]"
      ],
      "metadata": {
        "colab": {
          "base_uri": "https://localhost:8080/"
        },
        "id": "TysckOEzr81Y",
        "outputId": "9f291ec3-5430-4a83-f90c-7de187e3bb96"
      },
      "execution_count": 67,
      "outputs": [
        {
          "output_type": "execute_result",
          "data": {
            "text/plain": [
              "array([[-0.40025979,  1.02068174,  1.27360654, -1.7377756 ],\n",
              "       [ 0.37810055, -1.47702512,  0.35168236,  0.25463832],\n",
              "       [ 0.98405479,  1.00288564,  0.02405835, -1.50344085],\n",
              "       [-1.00828099,  0.86562214,  0.02591225,  0.09974251],\n",
              "       [ 0.42869218,  0.59697715, -0.17261333,  1.62545643]])"
            ]
          },
          "metadata": {},
          "execution_count": 67
        }
      ]
    },
    {
      "cell_type": "code",
      "source": [
        "cond = names == 'Bob'\n",
        "df[~cond]"
      ],
      "metadata": {
        "colab": {
          "base_uri": "https://localhost:8080/"
        },
        "id": "JhCREePAsFtH",
        "outputId": "ab89a673-0189-431c-eb78-a812cbe51881"
      },
      "execution_count": 68,
      "outputs": [
        {
          "output_type": "execute_result",
          "data": {
            "text/plain": [
              "array([[-0.40025979,  1.02068174,  1.27360654, -1.7377756 ],\n",
              "       [ 0.37810055, -1.47702512,  0.35168236,  0.25463832],\n",
              "       [ 0.98405479,  1.00288564,  0.02405835, -1.50344085],\n",
              "       [-1.00828099,  0.86562214,  0.02591225,  0.09974251],\n",
              "       [ 0.42869218,  0.59697715, -0.17261333,  1.62545643]])"
            ]
          },
          "metadata": {},
          "execution_count": 68
        }
      ]
    },
    {
      "cell_type": "code",
      "source": [
        "mask = (names == 'Bob') | (names == 'Will')\n",
        "print(mask)\n",
        "print(df[mask])"
      ],
      "metadata": {
        "colab": {
          "base_uri": "https://localhost:8080/"
        },
        "id": "888MisgGsNQw",
        "outputId": "f5d5fe75-9fd8-4b74-e5c7-2a162c17bcab"
      },
      "execution_count": 71,
      "outputs": [
        {
          "output_type": "stream",
          "name": "stdout",
          "text": [
            "[ True False  True  True  True False False]\n",
            "[[-0.59177254  1.86968255 -0.14754315 -0.28013591]\n",
            " [ 0.37810055 -1.47702512  0.35168236  0.25463832]\n",
            " [-1.89348944 -0.24601319 -0.25619271 -1.41008918]\n",
            " [ 0.98405479  1.00288564  0.02405835 -1.50344085]]\n"
          ]
        }
      ]
    },
    {
      "cell_type": "code",
      "source": [
        "df[df < 0] = 99\n",
        "print(df)"
      ],
      "metadata": {
        "colab": {
          "base_uri": "https://localhost:8080/"
        },
        "id": "3IDa1Q58sb0b",
        "outputId": "a3be6d8a-5622-498c-ac9b-8ff61bcf5802"
      },
      "execution_count": 73,
      "outputs": [
        {
          "output_type": "stream",
          "name": "stdout",
          "text": [
            "[[9.90000000e+01 1.86968255e+00 9.90000000e+01 9.90000000e+01]\n",
            " [9.90000000e+01 1.02068174e+00 1.27360654e+00 9.90000000e+01]\n",
            " [3.78100545e-01 9.90000000e+01 3.51682360e-01 2.54638323e-01]\n",
            " [9.90000000e+01 9.90000000e+01 9.90000000e+01 9.90000000e+01]\n",
            " [9.84054794e-01 1.00288564e+00 2.40583470e-02 9.90000000e+01]\n",
            " [9.90000000e+01 8.65622140e-01 2.59122525e-02 9.97425074e-02]\n",
            " [4.28692178e-01 5.96977152e-01 9.90000000e+01 1.62545643e+00]]\n"
          ]
        }
      ]
    },
    {
      "cell_type": "code",
      "source": [
        "df[names != 'Joe'] = 77\n",
        "print(df)"
      ],
      "metadata": {
        "colab": {
          "base_uri": "https://localhost:8080/"
        },
        "id": "cjbvWHFCsl_W",
        "outputId": "8db25393-d22b-4a11-bc84-b6e9b6e0eb4d"
      },
      "execution_count": 75,
      "outputs": [
        {
          "output_type": "stream",
          "name": "stdout",
          "text": [
            "[[7.70000000e+01 7.70000000e+01 7.70000000e+01 7.70000000e+01]\n",
            " [9.90000000e+01 1.02068174e+00 1.27360654e+00 9.90000000e+01]\n",
            " [7.70000000e+01 7.70000000e+01 7.70000000e+01 7.70000000e+01]\n",
            " [7.70000000e+01 7.70000000e+01 7.70000000e+01 7.70000000e+01]\n",
            " [7.70000000e+01 7.70000000e+01 7.70000000e+01 7.70000000e+01]\n",
            " [9.90000000e+01 8.65622140e-01 2.59122525e-02 9.97425074e-02]\n",
            " [4.28692178e-01 5.96977152e-01 9.90000000e+01 1.62545643e+00]]\n"
          ]
        }
      ]
    },
    {
      "cell_type": "code",
      "source": [
        "# Fancy indexing\n",
        "arr = np.empty((8, 4))\n",
        "for i in range(8):\n",
        "  arr[i] = i\n",
        "print(arr)"
      ],
      "metadata": {
        "colab": {
          "base_uri": "https://localhost:8080/"
        },
        "id": "M-OAIzqNsu0D",
        "outputId": "3a4157b5-57ed-4d68-f47a-1985aaca2242"
      },
      "execution_count": 76,
      "outputs": [
        {
          "output_type": "stream",
          "name": "stdout",
          "text": [
            "[[0. 0. 0. 0.]\n",
            " [1. 1. 1. 1.]\n",
            " [2. 2. 2. 2.]\n",
            " [3. 3. 3. 3.]\n",
            " [4. 4. 4. 4.]\n",
            " [5. 5. 5. 5.]\n",
            " [6. 6. 6. 6.]\n",
            " [7. 7. 7. 7.]]\n"
          ]
        }
      ]
    },
    {
      "cell_type": "code",
      "source": [
        "arr[[4, 3, 0, 6]]"
      ],
      "metadata": {
        "colab": {
          "base_uri": "https://localhost:8080/"
        },
        "id": "dw-VOc6ItAte",
        "outputId": "1262389a-5d73-47c7-89de-3c9f6492bd5b"
      },
      "execution_count": 79,
      "outputs": [
        {
          "output_type": "execute_result",
          "data": {
            "text/plain": [
              "array([[4., 4., 4., 4.],\n",
              "       [3., 3., 3., 3.],\n",
              "       [0., 0., 0., 0.],\n",
              "       [6., 6., 6., 6.]])"
            ]
          },
          "metadata": {},
          "execution_count": 79
        }
      ]
    },
    {
      "cell_type": "code",
      "source": [
        "arr[[-3, -5, -7]]"
      ],
      "metadata": {
        "colab": {
          "base_uri": "https://localhost:8080/"
        },
        "id": "CBOawFs8tVtO",
        "outputId": "db1080f4-c8be-4bd7-ed86-8cda2d62e849"
      },
      "execution_count": 80,
      "outputs": [
        {
          "output_type": "execute_result",
          "data": {
            "text/plain": [
              "array([[5., 5., 5., 5.],\n",
              "       [3., 3., 3., 3.],\n",
              "       [1., 1., 1., 1.]])"
            ]
          },
          "metadata": {},
          "execution_count": 80
        }
      ]
    },
    {
      "cell_type": "code",
      "source": [
        "# reshape\n",
        "arr = np.arange(32).reshape((8,4))\n",
        "print(arr)"
      ],
      "metadata": {
        "colab": {
          "base_uri": "https://localhost:8080/"
        },
        "id": "OoLPVSzZt-yx",
        "outputId": "be07173e-14ab-4416-8cad-0319ce74309c"
      },
      "execution_count": 81,
      "outputs": [
        {
          "output_type": "stream",
          "name": "stdout",
          "text": [
            "[[ 0  1  2  3]\n",
            " [ 4  5  6  7]\n",
            " [ 8  9 10 11]\n",
            " [12 13 14 15]\n",
            " [16 17 18 19]\n",
            " [20 21 22 23]\n",
            " [24 25 26 27]\n",
            " [28 29 30 31]]\n"
          ]
        }
      ]
    },
    {
      "cell_type": "code",
      "source": [
        "# Transpose\n",
        "arr = np.arange(15).reshape((3,5))\n",
        "print(arr)"
      ],
      "metadata": {
        "colab": {
          "base_uri": "https://localhost:8080/"
        },
        "id": "SUh48OsCuMEe",
        "outputId": "3699c1c3-905a-429c-9fbb-5c25db12e3a2"
      },
      "execution_count": 86,
      "outputs": [
        {
          "output_type": "stream",
          "name": "stdout",
          "text": [
            "[[ 0  1  2  3  4]\n",
            " [ 5  6  7  8  9]\n",
            " [10 11 12 13 14]]\n"
          ]
        }
      ]
    },
    {
      "cell_type": "code",
      "source": [
        "arr = np.arange(16).reshape((2,2,4))\n",
        "arr.transpose((1,0,2))"
      ],
      "metadata": {
        "colab": {
          "base_uri": "https://localhost:8080/"
        },
        "id": "JWq5NYUoziIc",
        "outputId": "379c0892-09b2-4493-f24e-bf1c016360f9"
      },
      "execution_count": 88,
      "outputs": [
        {
          "output_type": "execute_result",
          "data": {
            "text/plain": [
              "array([[[ 0,  1,  2,  3],\n",
              "        [ 8,  9, 10, 11]],\n",
              "\n",
              "       [[ 4,  5,  6,  7],\n",
              "        [12, 13, 14, 15]]])"
            ]
          },
          "metadata": {},
          "execution_count": 88
        }
      ]
    },
    {
      "cell_type": "code",
      "source": [
        "# swapping axis ndarray\n",
        "arr.swapaxes(1,2)"
      ],
      "metadata": {
        "colab": {
          "base_uri": "https://localhost:8080/"
        },
        "id": "P3caV9dXz1Bs",
        "outputId": "24308c33-47ce-4fe7-d79b-b32d3f11fc73"
      },
      "execution_count": 89,
      "outputs": [
        {
          "output_type": "execute_result",
          "data": {
            "text/plain": [
              "array([[[ 0,  4],\n",
              "        [ 1,  5],\n",
              "        [ 2,  6],\n",
              "        [ 3,  7]],\n",
              "\n",
              "       [[ 8, 12],\n",
              "        [ 9, 13],\n",
              "        [10, 14],\n",
              "        [11, 15]]])"
            ]
          },
          "metadata": {},
          "execution_count": 89
        }
      ]
    },
    {
      "cell_type": "code",
      "source": [
        "# Universal func: fast element-wise array func\n",
        "arr = np.arange(10)\n",
        "print(arr)"
      ],
      "metadata": {
        "colab": {
          "base_uri": "https://localhost:8080/"
        },
        "id": "GlMDBi7u5ZWs",
        "outputId": "a025464d-a771-4867-aa23-6c2e94610fd5"
      },
      "execution_count": 90,
      "outputs": [
        {
          "output_type": "stream",
          "name": "stdout",
          "text": [
            "[0 1 2 3 4 5 6 7 8 9]\n"
          ]
        }
      ]
    },
    {
      "cell_type": "code",
      "source": [
        "np.sqrt(arr)"
      ],
      "metadata": {
        "colab": {
          "base_uri": "https://localhost:8080/"
        },
        "id": "4kTGz8ww531T",
        "outputId": "f0740537-f287-4ab9-a01f-b2d86a494af5"
      },
      "execution_count": 91,
      "outputs": [
        {
          "output_type": "execute_result",
          "data": {
            "text/plain": [
              "array([0.        , 1.        , 1.41421356, 1.73205081, 2.        ,\n",
              "       2.23606798, 2.44948974, 2.64575131, 2.82842712, 3.        ])"
            ]
          },
          "metadata": {},
          "execution_count": 91
        }
      ]
    },
    {
      "cell_type": "code",
      "source": [
        "np.exp(arr)"
      ],
      "metadata": {
        "colab": {
          "base_uri": "https://localhost:8080/"
        },
        "id": "2bQnfxQy58j7",
        "outputId": "b0e86f44-61e7-4e5d-c391-cc84f33a85e5"
      },
      "execution_count": 92,
      "outputs": [
        {
          "output_type": "execute_result",
          "data": {
            "text/plain": [
              "array([1.00000000e+00, 2.71828183e+00, 7.38905610e+00, 2.00855369e+01,\n",
              "       5.45981500e+01, 1.48413159e+02, 4.03428793e+02, 1.09663316e+03,\n",
              "       2.98095799e+03, 8.10308393e+03])"
            ]
          },
          "metadata": {},
          "execution_count": 92
        }
      ]
    },
    {
      "cell_type": "code",
      "source": [
        "x = np.random.randn(8)\n",
        "y = np.random.randn(8)\n",
        "print(x)\n",
        "print(y)"
      ],
      "metadata": {
        "colab": {
          "base_uri": "https://localhost:8080/"
        },
        "id": "vclqP8lt5_-9",
        "outputId": "69f5d028-a798-4a0e-f7e2-a5f3be4fb7ea"
      },
      "execution_count": 94,
      "outputs": [
        {
          "output_type": "stream",
          "name": "stdout",
          "text": [
            "[-1.29409242 -0.78106045 -0.93765027  0.3165018   0.40947391 -0.10428445\n",
            " -0.12038507 -0.34436403]\n",
            "[ 0.10328419 -0.59567703  0.90045631 -1.20532615  0.45980082 -0.62056126\n",
            "  0.07519103 -0.47236227]\n"
          ]
        }
      ]
    },
    {
      "cell_type": "code",
      "source": [
        "arr = np.random.randn(7) * 5\n",
        "remainder, whole_part = np.modf(arr)\n",
        "print(remainder)\n",
        "print(whole_part)"
      ],
      "metadata": {
        "colab": {
          "base_uri": "https://localhost:8080/"
        },
        "id": "jNOsxmbV6Z4a",
        "outputId": "f88f95d8-67a5-48cf-e244-e3a7202bc164"
      },
      "execution_count": 96,
      "outputs": [
        {
          "output_type": "stream",
          "name": "stdout",
          "text": [
            "[ 0.80845465  0.38085471 -0.74007732  0.59660156  0.64194935  0.061018\n",
            " -0.22595362]\n",
            "[ 5.  0. -4.  1.  5.  2. -0.]\n"
          ]
        }
      ]
    },
    {
      "cell_type": "code",
      "source": [
        "# Array-oriented programming with array\n",
        "points = np.arange(-5, 5, 0.01)\n",
        "xs, ys = np.meshgrid(points, points)\n",
        "print(xs)\n",
        "print(ys)"
      ],
      "metadata": {
        "colab": {
          "base_uri": "https://localhost:8080/"
        },
        "id": "R2tlE9tn6ojw",
        "outputId": "7f07207b-f17c-464a-f300-fa6d3e08b46d"
      },
      "execution_count": 99,
      "outputs": [
        {
          "output_type": "stream",
          "name": "stdout",
          "text": [
            "[[-5.   -4.99 -4.98 ...  4.97  4.98  4.99]\n",
            " [-5.   -4.99 -4.98 ...  4.97  4.98  4.99]\n",
            " [-5.   -4.99 -4.98 ...  4.97  4.98  4.99]\n",
            " ...\n",
            " [-5.   -4.99 -4.98 ...  4.97  4.98  4.99]\n",
            " [-5.   -4.99 -4.98 ...  4.97  4.98  4.99]\n",
            " [-5.   -4.99 -4.98 ...  4.97  4.98  4.99]]\n",
            "[[-5.   -5.   -5.   ... -5.   -5.   -5.  ]\n",
            " [-4.99 -4.99 -4.99 ... -4.99 -4.99 -4.99]\n",
            " [-4.98 -4.98 -4.98 ... -4.98 -4.98 -4.98]\n",
            " ...\n",
            " [ 4.97  4.97  4.97 ...  4.97  4.97  4.97]\n",
            " [ 4.98  4.98  4.98 ...  4.98  4.98  4.98]\n",
            " [ 4.99  4.99  4.99 ...  4.99  4.99  4.99]]\n"
          ]
        }
      ]
    },
    {
      "cell_type": "code",
      "source": [
        "# evaluate func\n",
        "z = np.sqrt(xs ** 2 + ys ** 2)\n",
        "print(z)"
      ],
      "metadata": {
        "colab": {
          "base_uri": "https://localhost:8080/"
        },
        "id": "EgofklfA71SB",
        "outputId": "e0b656b3-9952-4b48-b7c8-a1d1d604ccc9"
      },
      "execution_count": 101,
      "outputs": [
        {
          "output_type": "stream",
          "name": "stdout",
          "text": [
            "[[7.07106781 7.06400028 7.05693985 ... 7.04988652 7.05693985 7.06400028]\n",
            " [7.06400028 7.05692568 7.04985815 ... 7.04279774 7.04985815 7.05692568]\n",
            " [7.05693985 7.04985815 7.04278354 ... 7.03571603 7.04278354 7.04985815]\n",
            " ...\n",
            " [7.04988652 7.04279774 7.03571603 ... 7.0286414  7.03571603 7.04279774]\n",
            " [7.05693985 7.04985815 7.04278354 ... 7.03571603 7.04278354 7.04985815]\n",
            " [7.06400028 7.05692568 7.04985815 ... 7.04279774 7.04985815 7.05692568]]\n"
          ]
        }
      ]
    },
    {
      "cell_type": "code",
      "source": [
        "import matplotlib.pyplot as plt"
      ],
      "metadata": {
        "id": "7oyIKVc-8FqT"
      },
      "execution_count": 108,
      "outputs": []
    },
    {
      "cell_type": "code",
      "source": [
        "plt.imshow(z, cmap=plt.cm.gray); plt.colorbar()"
      ],
      "metadata": {
        "colab": {
          "base_uri": "https://localhost:8080/",
          "height": 452
        },
        "id": "H2saHAh_84lJ",
        "outputId": "d4f445ea-4121-48f9-c6a7-94f358e3684c"
      },
      "execution_count": 109,
      "outputs": [
        {
          "output_type": "execute_result",
          "data": {
            "text/plain": [
              "<matplotlib.colorbar.Colorbar at 0x7dd97e467280>"
            ]
          },
          "metadata": {},
          "execution_count": 109
        },
        {
          "output_type": "display_data",
          "data": {
            "text/plain": [
              "<Figure size 640x480 with 2 Axes>"
            ],
            "image/png": "[encoded data removed]"
          },
          "metadata": {}
        }
      ]
    },
    {
      "cell_type": "code",
      "source": [
        "plt.title('Image plot of $\\sqrt{x^2 + y^2}$ for a grid of values')"
      ],
      "metadata": {
        "colab": {
          "base_uri": "https://localhost:8080/",
          "height": 479
        },
        "id": "yZRtLSCf9BKS",
        "outputId": "7b2c7895-9a9d-4c2d-ad0a-ee5ddec30f81"
      },
      "execution_count": 111,
      "outputs": [
        {
          "output_type": "execute_result",
          "data": {
            "text/plain": [
              "Text(0.5, 1.0, 'Image plot of $\\\\sqrt{x^2 + y^2}$ for a grid of values')"
            ]
          },
          "metadata": {},
          "execution_count": 111
        },
        {
          "output_type": "display_data",
          "data": {
            "text/plain": [
              "<Figure size 640x480 with 1 Axes>"
            ],
            "image/png": "[encoded data removed]"
          },
          "metadata": {}
        }
      ]
    },
    {
      "cell_type": "code",
      "source": [
        "# Expression condition logic\n",
        "xarr = np.array([1.1, 1.2, 1.3, 1.4, 1.5])\n",
        "yarr = np.array([2.1, 2.2, 2.3, 2.4, 2.5])\n",
        "cond = np.array([True, False, True, True, False])\n"
      ],
      "metadata": {
        "id": "m-thk9zt9SlR"
      },
      "execution_count": 112,
      "outputs": []
    },
    {
      "cell_type": "code",
      "source": [
        "# Take value from xarr\n",
        "result = [(x if c else y) for x, y, c in zip(xarr, yarr, cond)]\n",
        "print(result)"
      ],
      "metadata": {
        "colab": {
          "base_uri": "https://localhost:8080/"
        },
        "id": "7HXLqGpn9pcR",
        "outputId": "a64ed02c-d240-4f49-d4ac-57215a9a32c8"
      },
      "execution_count": 113,
      "outputs": [
        {
          "output_type": "stream",
          "name": "stdout",
          "text": [
            "[1.1, 2.2, 1.3, 1.4, 2.5]\n"
          ]
        }
      ]
    },
    {
      "cell_type": "code",
      "source": [
        "# where condition\n",
        "arr = np.random.randn(4,4)\n",
        "print(arr)"
      ],
      "metadata": {
        "colab": {
          "base_uri": "https://localhost:8080/"
        },
        "id": "xG1CwOK8-Ffw",
        "outputId": "1890faec-f3c0-488f-d520-c948145e9db1"
      },
      "execution_count": 114,
      "outputs": [
        {
          "output_type": "stream",
          "name": "stdout",
          "text": [
            "[[-0.5010421  -0.51710298  0.02086966 -1.89861385]\n",
            " [-0.23227616 -0.56421122 -0.87186215 -1.06055909]\n",
            " [ 0.64768368 -1.0657589  -1.91573361 -1.06466699]\n",
            " [ 0.02250862 -0.5069947  -0.33568364 -1.6814059 ]]\n"
          ]
        }
      ]
    },
    {
      "cell_type": "code",
      "source": [
        "arr > 0"
      ],
      "metadata": {
        "colab": {
          "base_uri": "https://localhost:8080/"
        },
        "id": "cbc6Qh68-OX1",
        "outputId": "0a430c02-e414-4836-9d98-7fcfc1de49e9"
      },
      "execution_count": 115,
      "outputs": [
        {
          "output_type": "execute_result",
          "data": {
            "text/plain": [
              "array([[False, False,  True, False],\n",
              "       [False, False, False, False],\n",
              "       [ True, False, False, False],\n",
              "       [ True, False, False, False]])"
            ]
          },
          "metadata": {},
          "execution_count": 115
        }
      ]
    },
    {
      "cell_type": "code",
      "source": [
        "# Replace positive numbers by 2 and otherwise -2\n",
        "np.where(arr > 0, 2, -2)"
      ],
      "metadata": {
        "colab": {
          "base_uri": "https://localhost:8080/"
        },
        "id": "o6rd4TII-Rgf",
        "outputId": "9f9d0ae6-e822-4e0b-99c7-ab6857860eac"
      },
      "execution_count": 116,
      "outputs": [
        {
          "output_type": "execute_result",
          "data": {
            "text/plain": [
              "array([[-2, -2,  2, -2],\n",
              "       [-2, -2, -2, -2],\n",
              "       [ 2, -2, -2, -2],\n",
              "       [ 2, -2, -2, -2]])"
            ]
          },
          "metadata": {},
          "execution_count": 116
        }
      ]
    },
    {
      "cell_type": "code",
      "source": [
        "# Mathematical & Statistical methods\n",
        "arr = np.random.randn(5,4) # 5 rows and 4 cols\n",
        "print(arr)"
      ],
      "metadata": {
        "colab": {
          "base_uri": "https://localhost:8080/"
        },
        "id": "LsLAaguq-7HO",
        "outputId": "fdc1b616-0388-42ca-fc08-1d3c3189e470"
      },
      "execution_count": 117,
      "outputs": [
        {
          "output_type": "stream",
          "name": "stdout",
          "text": [
            "[[ 0.00492681  1.5064536   0.02270614  0.99629015]\n",
            " [-0.15754881  1.08709816 -0.84252173 -0.2877259 ]\n",
            " [-0.08501979  1.34502772  0.59847745  0.54240907]\n",
            " [-1.19506546 -1.35151471  1.10531    -1.18919994]\n",
            " [-0.02533599 -2.01821284 -0.14150443  0.58693739]]\n"
          ]
        }
      ]
    },
    {
      "cell_type": "code",
      "source": [
        "arr.mean()\n",
        "arr.max()\n",
        "arr.min()\n",
        "arr.sum()"
      ],
      "metadata": {
        "colab": {
          "base_uri": "https://localhost:8080/"
        },
        "id": "ma5mslsz_EGq",
        "outputId": "682a4fce-dd76-4352-a0c6-418c9fbb9fe5"
      },
      "execution_count": 121,
      "outputs": [
        {
          "output_type": "execute_result",
          "data": {
            "text/plain": [
              "0.5019868906091858"
            ]
          },
          "metadata": {},
          "execution_count": 121
        }
      ]
    },
    {
      "cell_type": "code",
      "source": [
        "arr.mean(axis = 1) # Row means\n",
        "arr.mean(axis = 0) # Col means"
      ],
      "metadata": {
        "colab": {
          "base_uri": "https://localhost:8080/"
        },
        "id": "J8RJznFX_rRV",
        "outputId": "3afefd13-8647-4dd5-953d-0f1620560dbc"
      },
      "execution_count": 125,
      "outputs": [
        {
          "output_type": "execute_result",
          "data": {
            "text/plain": [
              "array([ 0.63259417, -0.05017457,  0.60022362, -0.65761753, -0.39952897])"
            ]
          },
          "metadata": {},
          "execution_count": 125
        }
      ]
    },
    {
      "cell_type": "code",
      "source": [
        "print(arr)\n",
        "arr[0, :]\n",
        "arr[:, 0]"
      ],
      "metadata": {
        "colab": {
          "base_uri": "https://localhost:8080/"
        },
        "id": "L_htSs9S_NG0",
        "outputId": "ae36f71d-e23f-47e0-c7d1-66259053d8b8"
      },
      "execution_count": 131,
      "outputs": [
        {
          "output_type": "stream",
          "name": "stdout",
          "text": [
            "[[ 0.00492681  1.5064536   0.02270614  0.99629015]\n",
            " [-0.15754881  1.08709816 -0.84252173 -0.2877259 ]\n",
            " [-0.08501979  1.34502772  0.59847745  0.54240907]\n",
            " [-1.19506546 -1.35151471  1.10531    -1.18919994]\n",
            " [-0.02533599 -2.01821284 -0.14150443  0.58693739]]\n"
          ]
        },
        {
          "output_type": "execute_result",
          "data": {
            "text/plain": [
              "array([ 0.00492681, -0.15754881, -0.08501979, -1.19506546, -0.02533599])"
            ]
          },
          "metadata": {},
          "execution_count": 131
        }
      ]
    },
    {
      "cell_type": "code",
      "source": [
        "arr.mean(axis=0) # col means\n",
        "arr.mean(axis=1) # row means"
      ],
      "metadata": {
        "colab": {
          "base_uri": "https://localhost:8080/"
        },
        "id": "1m3wakwvAWsf",
        "outputId": "2e25c91f-0eb2-4f23-9cc8-a4084b06f777"
      },
      "execution_count": 133,
      "outputs": [
        {
          "output_type": "execute_result",
          "data": {
            "text/plain": [
              "array([ 0.63259417, -0.05017457,  0.60022362, -0.65761753, -0.39952897])"
            ]
          },
          "metadata": {},
          "execution_count": 133
        }
      ]
    },
    {
      "cell_type": "code",
      "source": [
        "# agregate\n",
        "arr = np.array([0, 1, 2, 3, 4, 5, 6, 7])\n",
        "arr.cumsum()"
      ],
      "metadata": {
        "colab": {
          "base_uri": "https://localhost:8080/"
        },
        "id": "ByzIeznzAyJq",
        "outputId": "e9d31f81-677f-4712-a269-11fc049fa50c"
      },
      "execution_count": 134,
      "outputs": [
        {
          "output_type": "execute_result",
          "data": {
            "text/plain": [
              "array([ 0,  1,  3,  6, 10, 15, 21, 28])"
            ]
          },
          "metadata": {},
          "execution_count": 134
        }
      ]
    },
    {
      "cell_type": "code",
      "source": [
        "arr = np.array([[0, 1, 2], [3, 4, 5], [6, 7, 8]])\n",
        "print(arr)\n",
        "print(arr.shape)"
      ],
      "metadata": {
        "colab": {
          "base_uri": "https://localhost:8080/"
        },
        "id": "Fx4Fv9lRBDAt",
        "outputId": "6cb0f73a-a439-4066-b376-b87381ba9cd0"
      },
      "execution_count": 136,
      "outputs": [
        {
          "output_type": "stream",
          "name": "stdout",
          "text": [
            "[[0 1 2]\n",
            " [3 4 5]\n",
            " [6 7 8]]\n",
            "(3, 3)\n"
          ]
        }
      ]
    },
    {
      "cell_type": "code",
      "source": [
        "arr.cumsum(axis=0)\n"
      ],
      "metadata": {
        "colab": {
          "base_uri": "https://localhost:8080/"
        },
        "id": "rayrnqnxBPBt",
        "outputId": "5dcd5837-bd09-444a-9b8c-73f477d464b4"
      },
      "execution_count": 137,
      "outputs": [
        {
          "output_type": "execute_result",
          "data": {
            "text/plain": [
              "array([[ 0,  1,  2],\n",
              "       [ 3,  5,  7],\n",
              "       [ 9, 12, 15]])"
            ]
          },
          "metadata": {},
          "execution_count": 137
        }
      ]
    },
    {
      "cell_type": "code",
      "source": [
        "# Methods for boolean arrays\n",
        "arr = np.random.randn(100)\n",
        "(arr > 0).sum() # sum the positive numbers"
      ],
      "metadata": {
        "colab": {
          "base_uri": "https://localhost:8080/"
        },
        "id": "Kb4YqY22Beig",
        "outputId": "192cfe7e-2ed4-4a5f-86d0-b89ae8084152"
      },
      "execution_count": 138,
      "outputs": [
        {
          "output_type": "execute_result",
          "data": {
            "text/plain": [
              "53"
            ]
          },
          "metadata": {},
          "execution_count": 138
        }
      ]
    },
    {
      "cell_type": "code",
      "source": [
        "bools = np.array([False, False, True, False])\n",
        "bools.any()"
      ],
      "metadata": {
        "colab": {
          "base_uri": "https://localhost:8080/"
        },
        "id": "5aBq4CRBBsxk",
        "outputId": "3fc4daca-f054-44b0-e0a8-243a21b87b95"
      },
      "execution_count": 139,
      "outputs": [
        {
          "output_type": "execute_result",
          "data": {
            "text/plain": [
              "True"
            ]
          },
          "metadata": {},
          "execution_count": 139
        }
      ]
    },
    {
      "cell_type": "code",
      "source": [
        "bools.all() # all the same?\n"
      ],
      "metadata": {
        "colab": {
          "base_uri": "https://localhost:8080/"
        },
        "id": "xFWUCWBbDYk-",
        "outputId": "8048cc76-e577-4932-8bc5-aa7ba208ee1d"
      },
      "execution_count": 140,
      "outputs": [
        {
          "output_type": "execute_result",
          "data": {
            "text/plain": [
              "False"
            ]
          },
          "metadata": {},
          "execution_count": 140
        }
      ]
    },
    {
      "cell_type": "code",
      "source": [
        "# sorting\n",
        "arr = np.random.randn(6)\n",
        "arr.sort()\n",
        "print(arr)"
      ],
      "metadata": {
        "colab": {
          "base_uri": "https://localhost:8080/"
        },
        "id": "pslJkq3sDdsU",
        "outputId": "1e0ff80e-45f0-4e3c-a8c5-4d6171769ed7"
      },
      "execution_count": 142,
      "outputs": [
        {
          "output_type": "stream",
          "name": "stdout",
          "text": [
            "[-1.17448525 -0.38711623  0.21525466  0.41311116  0.77919369  1.80110563]\n"
          ]
        }
      ]
    },
    {
      "cell_type": "code",
      "source": [
        "arr = np.random.randn(5,3)\n",
        "arr"
      ],
      "metadata": {
        "colab": {
          "base_uri": "https://localhost:8080/"
        },
        "id": "OsiU_qnXDrqf",
        "outputId": "3d0fea32-c126-4a40-9ce1-a47fee39d8a2"
      },
      "execution_count": 143,
      "outputs": [
        {
          "output_type": "execute_result",
          "data": {
            "text/plain": [
              "array([[-0.46955515,  0.78339462, -0.14975035],\n",
              "       [-1.73415222,  0.45660409, -0.08447331],\n",
              "       [-1.1942526 ,  0.56879721, -0.71700723],\n",
              "       [ 0.85406246, -1.79552306,  0.97311653],\n",
              "       [-2.22692243,  0.23442985, -0.9645883 ]])"
            ]
          },
          "metadata": {},
          "execution_count": 143
        }
      ]
    },
    {
      "cell_type": "code",
      "source": [
        "arr.sort(1) # sorted by rows\n",
        "print(arr)"
      ],
      "metadata": {
        "colab": {
          "base_uri": "https://localhost:8080/"
        },
        "id": "IzwICpJTDysC",
        "outputId": "7fa1da07-daba-473e-9e04-986d626fe678"
      },
      "execution_count": 145,
      "outputs": [
        {
          "output_type": "stream",
          "name": "stdout",
          "text": [
            "[[-0.46955515 -0.14975035  0.78339462]\n",
            " [-1.73415222 -0.08447331  0.45660409]\n",
            " [-1.1942526  -0.71700723  0.56879721]\n",
            " [-1.79552306  0.85406246  0.97311653]\n",
            " [-2.22692243 -0.9645883   0.23442985]]\n"
          ]
        }
      ]
    },
    {
      "cell_type": "code",
      "source": [
        "arr.sort(0) # sort by cols\n",
        "print(arr)"
      ],
      "metadata": {
        "colab": {
          "base_uri": "https://localhost:8080/"
        },
        "id": "jzWGArO3D92f",
        "outputId": "1dc5f5fd-ec99-4588-97ba-5735d40718bf"
      },
      "execution_count": 146,
      "outputs": [
        {
          "output_type": "stream",
          "name": "stdout",
          "text": [
            "[[-2.22692243 -0.9645883   0.23442985]\n",
            " [-1.79552306 -0.71700723  0.45660409]\n",
            " [-1.73415222 -0.14975035  0.56879721]\n",
            " [-1.1942526  -0.08447331  0.78339462]\n",
            " [-0.46955515  0.85406246  0.97311653]]\n"
          ]
        }
      ]
    },
    {
      "cell_type": "code",
      "source": [
        "# compute quantile\n",
        "large_arr = np.random.randn(1000)\n",
        "large_arr.sort()\n",
        "large_arr[int(0.05 * len(large_arr))]"
      ],
      "metadata": {
        "colab": {
          "base_uri": "https://localhost:8080/"
        },
        "id": "QOEg8FhgEHan",
        "outputId": "c039185e-8a80-4e77-a9af-86e3e520a592"
      },
      "execution_count": 147,
      "outputs": [
        {
          "output_type": "execute_result",
          "data": {
            "text/plain": [
              "-1.5362899032315"
            ]
          },
          "metadata": {},
          "execution_count": 147
        }
      ]
    },
    {
      "cell_type": "code",
      "source": [
        "# Uniques & other set logic\n",
        "names = np.array(['Bob', 'Joe', 'Will', 'Bob', 'Will', 'Joe'])"
      ],
      "metadata": {
        "id": "6CQXK-DFEn_P"
      },
      "execution_count": 148,
      "outputs": []
    },
    {
      "cell_type": "code",
      "source": [
        "np.unique(names)"
      ],
      "metadata": {
        "colab": {
          "base_uri": "https://localhost:8080/"
        },
        "id": "BTpXeoD_E6VL",
        "outputId": "d9dfe1a2-7482-47c4-b0fc-f7992e10799e"
      },
      "execution_count": 149,
      "outputs": [
        {
          "output_type": "execute_result",
          "data": {
            "text/plain": [
              "array(['Bob', 'Joe', 'Will'], dtype='<U4')"
            ]
          },
          "metadata": {},
          "execution_count": 149
        }
      ]
    },
    {
      "cell_type": "code",
      "source": [
        "ints = np.array([3, 3, 3, 2, 2, 1, 1, 4, 4])\n",
        "np.unique(ints)"
      ],
      "metadata": {
        "colab": {
          "base_uri": "https://localhost:8080/"
        },
        "id": "zx5OKdzbE-Sk",
        "outputId": "ef5eaf00-51fc-49da-b80d-7d6dada24fd2"
      },
      "execution_count": 151,
      "outputs": [
        {
          "output_type": "execute_result",
          "data": {
            "text/plain": [
              "array([1, 2, 3, 4])"
            ]
          },
          "metadata": {},
          "execution_count": 151
        }
      ]
    },
    {
      "cell_type": "code",
      "source": [
        "sorted(set(names)) # returns unique names"
      ],
      "metadata": {
        "colab": {
          "base_uri": "https://localhost:8080/"
        },
        "id": "Ro8MBTR8FNyQ",
        "outputId": "794e0073-af9d-40e6-9bc0-b04bf60469bd"
      },
      "execution_count": 152,
      "outputs": [
        {
          "output_type": "execute_result",
          "data": {
            "text/plain": [
              "['Bob', 'Joe', 'Will']"
            ]
          },
          "metadata": {},
          "execution_count": 152
        }
      ]
    },
    {
      "cell_type": "code",
      "source": [
        "# File input and output with arrays\n",
        "arr = np.arange(10)\n",
        "np.save('some_arr', arr)"
      ],
      "metadata": {
        "id": "PU5WNWD-FXIo"
      },
      "execution_count": 153,
      "outputs": []
    },
    {
      "cell_type": "code",
      "source": [
        "np.load('some_arr.npy')"
      ],
      "metadata": {
        "colab": {
          "base_uri": "https://localhost:8080/"
        },
        "id": "UG4Q6bAoFghm",
        "outputId": "ddc02ab1-d36d-437f-d992-a6875ec0f1e9"
      },
      "execution_count": 154,
      "outputs": [
        {
          "output_type": "execute_result",
          "data": {
            "text/plain": [
              "array([0, 1, 2, 3, 4, 5, 6, 7, 8, 9])"
            ]
          },
          "metadata": {},
          "execution_count": 154
        }
      ]
    },
    {
      "cell_type": "code",
      "source": [
        "# libear algebra\n",
        "x = np.array([[1., 2., 3], [4., 5, 6]])\n",
        "y = np.array([[6., 23], [-1, 7], [8, 9]])\n",
        "x.dot(y)\n",
        "y.dot(x) # matrix product"
      ],
      "metadata": {
        "colab": {
          "base_uri": "https://localhost:8080/"
        },
        "id": "0jxuYf4eFroF",
        "outputId": "bf09e537-d3b1-4bba-a2ea-32776951c5bc"
      },
      "execution_count": 157,
      "outputs": [
        {
          "output_type": "execute_result",
          "data": {
            "text/plain": [
              "array([[ 98., 127., 156.],\n",
              "       [ 27.,  33.,  39.],\n",
              "       [ 44.,  61.,  78.]])"
            ]
          },
          "metadata": {},
          "execution_count": 157
        }
      ]
    },
    {
      "cell_type": "code",
      "source": [
        "from numpy.linalg import inv, qr\n",
        "X = np.random.randn(5,5)\n",
        "mat = X.T.dot(X)\n",
        "inv(mat)\n",
        "# Learn more about matrix"
      ],
      "metadata": {
        "colab": {
          "base_uri": "https://localhost:8080/"
        },
        "id": "-izj_zGKGgXc",
        "outputId": "88463f31-2d60-4c70-95ad-380265e2e5b3"
      },
      "execution_count": 159,
      "outputs": [
        {
          "output_type": "execute_result",
          "data": {
            "text/plain": [
              "array([[ 5.38316868, -4.97558909, -1.04687142, -1.64099485,  1.24584912],\n",
              "       [-4.97558909,  5.09031893,  0.82212474,  1.3839756 , -1.08610495],\n",
              "       [-1.04687142,  0.82212474,  1.14441855,  0.71300657, -0.16429139],\n",
              "       [-1.64099485,  1.3839756 ,  0.71300657,  1.30677758, -0.09913843],\n",
              "       [ 1.24584912, -1.08610495, -0.16429139, -0.09913843,  0.57544128]])"
            ]
          },
          "metadata": {},
          "execution_count": 159
        }
      ]
    },
    {
      "cell_type": "code",
      "source": [
        "# Pseudorandom number generation\n",
        "samples = np.random.normal(size=(4,4))\n",
        "print(samples)"
      ],
      "metadata": {
        "colab": {
          "base_uri": "https://localhost:8080/"
        },
        "id": "64zUnErIGyzI",
        "outputId": "2f6f3f9b-89f5-4e46-fddd-be46ac96f636"
      },
      "execution_count": 161,
      "outputs": [
        {
          "output_type": "stream",
          "name": "stdout",
          "text": [
            "[[-1.54292518 -1.09302259  1.93501009  2.07778069]\n",
            " [-0.01178019 -0.35815831 -0.32122905 -1.04654106]\n",
            " [-1.01809157 -1.1563381   0.00968658  0.49311224]\n",
            " [-0.30197556 -1.51241049  0.24350901 -0.82848264]]\n"
          ]
        }
      ]
    }
  ]
}